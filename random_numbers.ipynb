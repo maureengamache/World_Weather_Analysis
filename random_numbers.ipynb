{
 "cells": [
  {
   "cell_type": "code",
   "execution_count": 42,
   "id": "bd8a9472-ba40-4782-9bbb-9503406419d1",
   "metadata": {},
   "outputs": [],
   "source": [
    "# Import the random module.\n",
    "import random\n",
    "\n",
    "# Import the NumPy module.\n",
    "import numpy as np\n",
    "\n",
    "# Import timeit.\n",
    "import timeit"
   ]
  },
  {
   "cell_type": "code",
   "execution_count": 43,
   "id": "1234385f-ff33-42a8-8565-1538f01f93a4",
   "metadata": {},
   "outputs": [
    {
     "data": {
      "text/plain": [
       "50"
      ]
     },
     "execution_count": 43,
     "metadata": {},
     "output_type": "execute_result"
    }
   ],
   "source": [
    "random.randint(-90, 90)"
   ]
  },
  {
   "cell_type": "code",
   "execution_count": 44,
   "id": "4398f1e4-bd96-47c9-a72f-9fa28b4c6187",
   "metadata": {},
   "outputs": [
    {
     "data": {
      "text/plain": [
       "0.908633575869079"
      ]
     },
     "execution_count": 44,
     "metadata": {},
     "output_type": "execute_result"
    }
   ],
   "source": [
    "random.random()"
   ]
  },
  {
   "cell_type": "code",
   "execution_count": 45,
   "id": "f00013ce-198e-4773-8eff-a900a8a2ac40",
   "metadata": {},
   "outputs": [
    {
     "data": {
      "text/plain": [
       "-74.2491669638555"
      ]
     },
     "execution_count": 45,
     "metadata": {},
     "output_type": "execute_result"
    }
   ],
   "source": [
    "random_number = random.randint(-90, 89) + random.random()\n",
    "random_number"
   ]
  },
  {
   "cell_type": "code",
   "execution_count": 46,
   "id": "456c8097-386d-4e69-ae0e-9ae3cc45c75f",
   "metadata": {},
   "outputs": [
    {
     "data": {
      "text/plain": [
       "[27.229655662043413,\n",
       " 61.265967887552755,\n",
       " 11.482605477306409,\n",
       " 57.16563380366247,\n",
       " -59.10561274503449,\n",
       " 70.64792932841677,\n",
       " 50.04057611858934,\n",
       " -59.21144945097129,\n",
       " -3.874293750067573,\n",
       " -86.56611287531635]"
      ]
     },
     "execution_count": 46,
     "metadata": {},
     "output_type": "execute_result"
    }
   ],
   "source": [
    "x = 1\n",
    "latitudes = []\n",
    "while x < 11:\n",
    "    random_lat = random.randint(-90, 89) + random.random()\n",
    "    latitudes.append(random_lat)\n",
    "    x += 1\n",
    "\n",
    "latitudes\n",
    "    "
   ]
  },
  {
   "cell_type": "code",
   "execution_count": 47,
   "id": "15951fe5-7a34-434b-9a83-74b1928d61e2",
   "metadata": {},
   "outputs": [
    {
     "data": {
      "text/plain": [
       "77"
      ]
     },
     "execution_count": 47,
     "metadata": {},
     "output_type": "execute_result"
    }
   ],
   "source": [
    "random.randrange(-90, 90, step=1)"
   ]
  },
  {
   "cell_type": "code",
   "execution_count": 48,
   "id": "13d0ffeb-e5d1-41ef-9e05-a03c5c4821d9",
   "metadata": {},
   "outputs": [
    {
     "data": {
      "text/plain": [
       "45"
      ]
     },
     "execution_count": 48,
     "metadata": {},
     "output_type": "execute_result"
    }
   ],
   "source": [
    "random.randrange(-90, 90, step=3)"
   ]
  },
  {
   "cell_type": "code",
   "execution_count": 49,
   "id": "5a78d37b-a319-4c69-b90d-e5fad7b3a5fa",
   "metadata": {},
   "outputs": [
    {
     "data": {
      "text/plain": [
       "12.943251599643261"
      ]
     },
     "execution_count": 49,
     "metadata": {},
     "output_type": "execute_result"
    }
   ],
   "source": [
    "random.uniform(-90, 90)"
   ]
  },
  {
   "cell_type": "code",
   "execution_count": 50,
   "id": "3861bb2f-7eac-4e05-93d2-a427a6a5591c",
   "metadata": {},
   "outputs": [
    {
     "data": {
      "text/plain": [
       "70.78539094147004"
      ]
     },
     "execution_count": 50,
     "metadata": {},
     "output_type": "execute_result"
    }
   ],
   "source": [
    "np.random.uniform(-90.000, 90.000)"
   ]
  },
  {
   "cell_type": "code",
   "execution_count": 51,
   "id": "239b0ae9-8c21-42da-8c6a-5fbfca05dc54",
   "metadata": {},
   "outputs": [
    {
     "data": {
      "text/plain": [
       "array([-45.334873  ,   3.95907239,  81.64722499,  -7.52332292,\n",
       "        22.19072685, -17.98326396,  66.19631359,  45.55484955,\n",
       "        -3.7425479 , -26.66656234,  27.45086861,   7.28959593,\n",
       "       -11.00430517, -43.74742656, -64.51116895, -43.13628901,\n",
       "       -74.02044742,  39.51760017,  29.49623663, -12.65582298,\n",
       "       -36.19254982, -35.29631447,  43.86134089,  29.91881106,\n",
       "       -86.77693412,  82.68523321, -11.99513375,  31.95053546,\n",
       "         4.56506841, -13.10113555, -52.46667707, -39.31726836,\n",
       "        -8.63900686,  67.43255328,  54.70493146,  59.85437619,\n",
       "        57.17958512,  57.05450403, -36.70735305, -19.77698688,\n",
       "        25.3507821 ,  42.65600402,  50.23941854,  32.47277783,\n",
       "        -9.54028613,  19.32885076, -10.63594506, -55.71194753,\n",
       "       -35.10726296, -35.25222073])"
      ]
     },
     "execution_count": 51,
     "metadata": {},
     "output_type": "execute_result"
    }
   ],
   "source": [
    "np.random.uniform(-90.000, 90.000, size=50)"
   ]
  },
  {
   "cell_type": "code",
   "execution_count": 52,
   "id": "c2ce418e-8e69-43c5-9306-802b126a5d5e",
   "metadata": {},
   "outputs": [
    {
     "name": "stdout",
     "output_type": "stream",
     "text": [
      "14.7 µs ± 1.28 µs per loop (mean ± std. dev. of 7 runs, 100,000 loops each)\n"
     ]
    }
   ],
   "source": [
    "%timeit np.random.uniform(-90.000, 90.000, size=1500)"
   ]
  },
  {
   "cell_type": "code",
   "execution_count": 53,
   "id": "4024ff4d-7bc3-4147-bac3-00852f5c6138",
   "metadata": {},
   "outputs": [
    {
     "name": "stdout",
     "output_type": "stream",
     "text": [
      "1.44 ms ± 55.6 µs per loop (mean ± std. dev. of 7 runs, 1,000 loops each)\n"
     ]
    }
   ],
   "source": [
    "def latitudes(size):\n",
    "    latitudes = []\n",
    "    x = 0\n",
    "    while x < (size):\n",
    "        random_lat = random.randint(-90, 90) + random.random()\n",
    "        latitudes.append(random_lat)\n",
    "        x += 1\n",
    "    return latitudes\n",
    "# Call the function with 1500.\n",
    "%timeit latitudes(1500)"
   ]
  },
  {
   "cell_type": "code",
   "execution_count": 57,
   "id": "feeeb0d0-0452-4938-8518-5e83b8eb4c42",
   "metadata": {},
   "outputs": [
    {
     "name": "stdout",
     "output_type": "stream",
     "text": [
      "22.6 ns ± 0.474 ns per loop (mean ± std. dev. of 7 runs, 10,000,000 loops each)\n"
     ]
    }
   ],
   "source": [
    "x = 1\n",
    "latitudes = []\n",
    "while x < 1501:\n",
    "    random_lat = random.randint(-90, 89) + random.random()\n",
    "    latitudes.append(random_lat)\n",
    "    x += 1\n",
    "    \n",
    "\n",
    "\n",
    "%timeit latitudes"
   ]
  },
  {
   "cell_type": "code",
   "execution_count": null,
   "id": "652ad140-bb30-4d72-a810-c34ef9dceaee",
   "metadata": {},
   "outputs": [],
   "source": []
  }
 ],
 "metadata": {
  "kernelspec": {
   "display_name": "PythonData",
   "language": "python",
   "name": "pythondata"
  },
  "language_info": {
   "codemirror_mode": {
    "name": "ipython",
    "version": 3
   },
   "file_extension": ".py",
   "mimetype": "text/x-python",
   "name": "python",
   "nbconvert_exporter": "python",
   "pygments_lexer": "ipython3",
   "version": "3.9.12"
  }
 },
 "nbformat": 4,
 "nbformat_minor": 5
}
